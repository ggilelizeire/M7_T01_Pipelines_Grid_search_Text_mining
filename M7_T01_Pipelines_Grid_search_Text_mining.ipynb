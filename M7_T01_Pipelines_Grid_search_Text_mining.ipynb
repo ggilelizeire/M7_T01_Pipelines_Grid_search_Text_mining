{
 "cells": [
  {
   "cell_type": "markdown",
   "id": "4b9700c1-160b-431d-870f-ecba952f163e",
   "metadata": {},
   "source": [
    "# <center> M7 T01: Pipelines, Grid search i Text mining"
   ]
  },
  {
   "cell_type": "markdown",
   "id": "39b7da54-8746-4d9c-82a9-3de1d8c772af",
   "metadata": {},
   "source": [
    "## Exercici 1  \n",
    "Agafa el conjunt de dades que vulguis i realitza un **pipeline** i un **gridsearch** aplicant l'algorisme **Random Forest**."
   ]
  },
  {
   "cell_type": "code",
   "execution_count": 1,
   "id": "8f241266-7291-4088-8ca8-5a6219044661",
   "metadata": {},
   "outputs": [],
   "source": [
    "# Importo algunas de las librerías que voy a utilizar:\n",
    "import pandas\n",
    "from sklearn.model_selection import train_test_split\n",
    "from sklearn.pipeline import Pipeline\n",
    "from sklearn.preprocessing import StandardScaler\n",
    "from sklearn.model_selection import GridSearchCV\n",
    "from sklearn.ensemble import RandomForestRegressor"
   ]
  },
  {
   "cell_type": "markdown",
   "id": "0fecaca1-dbcb-4b08-bc90-7c54696a1b06",
   "metadata": {},
   "source": [
    "Esta vez voy a partir directamente del dataframe **flights_clean**, que es el que guardé en el ejercicio **M4 T01**, después del proceso de limpieza (y antes del de transformación):"
   ]
  },
  {
   "cell_type": "code",
   "execution_count": 2,
   "id": "6367eee0-0caf-4b42-83fa-cca986ced2d0",
   "metadata": {},
   "outputs": [
    {
     "data": {
      "text/html": [
       "<div>\n",
       "<style scoped>\n",
       "    .dataframe tbody tr th:only-of-type {\n",
       "        vertical-align: middle;\n",
       "    }\n",
       "\n",
       "    .dataframe tbody tr th {\n",
       "        vertical-align: top;\n",
       "    }\n",
       "\n",
       "    .dataframe thead th {\n",
       "        text-align: right;\n",
       "    }\n",
       "</style>\n",
       "<table border=\"1\" class=\"dataframe\">\n",
       "  <thead>\n",
       "    <tr style=\"text-align: right;\">\n",
       "      <th></th>\n",
       "      <th>CRSDepTime</th>\n",
       "      <th>DepTime</th>\n",
       "      <th>CRSArrTime</th>\n",
       "      <th>CRSElapsedTime</th>\n",
       "      <th>DepDelay</th>\n",
       "      <th>ArrDelay</th>\n",
       "      <th>UniqueCarrier</th>\n",
       "      <th>Origin</th>\n",
       "      <th>Dest</th>\n",
       "      <th>Distance</th>\n",
       "      <th>Date</th>\n",
       "      <th>Month</th>\n",
       "      <th>Day</th>\n",
       "      <th>DayOfWeek</th>\n",
       "    </tr>\n",
       "  </thead>\n",
       "  <tbody>\n",
       "    <tr>\n",
       "      <th>0</th>\n",
       "      <td>1755</td>\n",
       "      <td>1829</td>\n",
       "      <td>1925</td>\n",
       "      <td>90</td>\n",
       "      <td>34</td>\n",
       "      <td>34</td>\n",
       "      <td>WN</td>\n",
       "      <td>IND</td>\n",
       "      <td>BWI</td>\n",
       "      <td>515</td>\n",
       "      <td>2008-01-03</td>\n",
       "      <td>1</td>\n",
       "      <td>3</td>\n",
       "      <td>4</td>\n",
       "    </tr>\n",
       "    <tr>\n",
       "      <th>1</th>\n",
       "      <td>1830</td>\n",
       "      <td>1937</td>\n",
       "      <td>1940</td>\n",
       "      <td>250</td>\n",
       "      <td>67</td>\n",
       "      <td>57</td>\n",
       "      <td>WN</td>\n",
       "      <td>IND</td>\n",
       "      <td>LAS</td>\n",
       "      <td>1591</td>\n",
       "      <td>2008-01-03</td>\n",
       "      <td>1</td>\n",
       "      <td>3</td>\n",
       "      <td>4</td>\n",
       "    </tr>\n",
       "    <tr>\n",
       "      <th>2</th>\n",
       "      <td>1510</td>\n",
       "      <td>1644</td>\n",
       "      <td>1725</td>\n",
       "      <td>135</td>\n",
       "      <td>94</td>\n",
       "      <td>80</td>\n",
       "      <td>WN</td>\n",
       "      <td>IND</td>\n",
       "      <td>MCO</td>\n",
       "      <td>828</td>\n",
       "      <td>2008-01-03</td>\n",
       "      <td>1</td>\n",
       "      <td>3</td>\n",
       "      <td>4</td>\n",
       "    </tr>\n",
       "    <tr>\n",
       "      <th>3</th>\n",
       "      <td>1425</td>\n",
       "      <td>1452</td>\n",
       "      <td>1625</td>\n",
       "      <td>240</td>\n",
       "      <td>27</td>\n",
       "      <td>15</td>\n",
       "      <td>WN</td>\n",
       "      <td>IND</td>\n",
       "      <td>PHX</td>\n",
       "      <td>1489</td>\n",
       "      <td>2008-01-03</td>\n",
       "      <td>1</td>\n",
       "      <td>3</td>\n",
       "      <td>4</td>\n",
       "    </tr>\n",
       "    <tr>\n",
       "      <th>4</th>\n",
       "      <td>1255</td>\n",
       "      <td>1323</td>\n",
       "      <td>1510</td>\n",
       "      <td>135</td>\n",
       "      <td>28</td>\n",
       "      <td>16</td>\n",
       "      <td>WN</td>\n",
       "      <td>IND</td>\n",
       "      <td>TPA</td>\n",
       "      <td>838</td>\n",
       "      <td>2008-01-03</td>\n",
       "      <td>1</td>\n",
       "      <td>3</td>\n",
       "      <td>4</td>\n",
       "    </tr>\n",
       "    <tr>\n",
       "      <th>...</th>\n",
       "      <td>...</td>\n",
       "      <td>...</td>\n",
       "      <td>...</td>\n",
       "      <td>...</td>\n",
       "      <td>...</td>\n",
       "      <td>...</td>\n",
       "      <td>...</td>\n",
       "      <td>...</td>\n",
       "      <td>...</td>\n",
       "      <td>...</td>\n",
       "      <td>...</td>\n",
       "      <td>...</td>\n",
       "      <td>...</td>\n",
       "      <td>...</td>\n",
       "    </tr>\n",
       "    <tr>\n",
       "      <th>1247481</th>\n",
       "      <td>830</td>\n",
       "      <td>921</td>\n",
       "      <td>1008</td>\n",
       "      <td>98</td>\n",
       "      <td>51</td>\n",
       "      <td>64</td>\n",
       "      <td>DL</td>\n",
       "      <td>ATL</td>\n",
       "      <td>PBI</td>\n",
       "      <td>545</td>\n",
       "      <td>2008-12-13</td>\n",
       "      <td>12</td>\n",
       "      <td>13</td>\n",
       "      <td>6</td>\n",
       "    </tr>\n",
       "    <tr>\n",
       "      <th>1247482</th>\n",
       "      <td>1520</td>\n",
       "      <td>1552</td>\n",
       "      <td>1718</td>\n",
       "      <td>58</td>\n",
       "      <td>32</td>\n",
       "      <td>17</td>\n",
       "      <td>DL</td>\n",
       "      <td>HSV</td>\n",
       "      <td>ATL</td>\n",
       "      <td>151</td>\n",
       "      <td>2008-12-13</td>\n",
       "      <td>12</td>\n",
       "      <td>13</td>\n",
       "      <td>6</td>\n",
       "    </tr>\n",
       "    <tr>\n",
       "      <th>1247483</th>\n",
       "      <td>1220</td>\n",
       "      <td>1250</td>\n",
       "      <td>1552</td>\n",
       "      <td>152</td>\n",
       "      <td>30</td>\n",
       "      <td>25</td>\n",
       "      <td>DL</td>\n",
       "      <td>MSP</td>\n",
       "      <td>ATL</td>\n",
       "      <td>906</td>\n",
       "      <td>2008-12-13</td>\n",
       "      <td>12</td>\n",
       "      <td>13</td>\n",
       "      <td>6</td>\n",
       "    </tr>\n",
       "    <tr>\n",
       "      <th>1247484</th>\n",
       "      <td>600</td>\n",
       "      <td>657</td>\n",
       "      <td>749</td>\n",
       "      <td>109</td>\n",
       "      <td>57</td>\n",
       "      <td>75</td>\n",
       "      <td>DL</td>\n",
       "      <td>RIC</td>\n",
       "      <td>ATL</td>\n",
       "      <td>481</td>\n",
       "      <td>2008-12-13</td>\n",
       "      <td>12</td>\n",
       "      <td>13</td>\n",
       "      <td>6</td>\n",
       "    </tr>\n",
       "    <tr>\n",
       "      <th>1247485</th>\n",
       "      <td>847</td>\n",
       "      <td>1007</td>\n",
       "      <td>1010</td>\n",
       "      <td>143</td>\n",
       "      <td>80</td>\n",
       "      <td>99</td>\n",
       "      <td>DL</td>\n",
       "      <td>ATL</td>\n",
       "      <td>IAH</td>\n",
       "      <td>689</td>\n",
       "      <td>2008-12-13</td>\n",
       "      <td>12</td>\n",
       "      <td>13</td>\n",
       "      <td>6</td>\n",
       "    </tr>\n",
       "  </tbody>\n",
       "</table>\n",
       "<p>1247486 rows × 14 columns</p>\n",
       "</div>"
      ],
      "text/plain": [
       "         CRSDepTime  DepTime  CRSArrTime  CRSElapsedTime  DepDelay  ArrDelay  \\\n",
       "0              1755     1829        1925              90        34        34   \n",
       "1              1830     1937        1940             250        67        57   \n",
       "2              1510     1644        1725             135        94        80   \n",
       "3              1425     1452        1625             240        27        15   \n",
       "4              1255     1323        1510             135        28        16   \n",
       "...             ...      ...         ...             ...       ...       ...   \n",
       "1247481         830      921        1008              98        51        64   \n",
       "1247482        1520     1552        1718              58        32        17   \n",
       "1247483        1220     1250        1552             152        30        25   \n",
       "1247484         600      657         749             109        57        75   \n",
       "1247485         847     1007        1010             143        80        99   \n",
       "\n",
       "        UniqueCarrier Origin Dest  Distance        Date  Month  Day  DayOfWeek  \n",
       "0                  WN    IND  BWI       515  2008-01-03      1    3          4  \n",
       "1                  WN    IND  LAS      1591  2008-01-03      1    3          4  \n",
       "2                  WN    IND  MCO       828  2008-01-03      1    3          4  \n",
       "3                  WN    IND  PHX      1489  2008-01-03      1    3          4  \n",
       "4                  WN    IND  TPA       838  2008-01-03      1    3          4  \n",
       "...               ...    ...  ...       ...         ...    ...  ...        ...  \n",
       "1247481            DL    ATL  PBI       545  2008-12-13     12   13          6  \n",
       "1247482            DL    HSV  ATL       151  2008-12-13     12   13          6  \n",
       "1247483            DL    MSP  ATL       906  2008-12-13     12   13          6  \n",
       "1247484            DL    RIC  ATL       481  2008-12-13     12   13          6  \n",
       "1247485            DL    ATL  IAH       689  2008-12-13     12   13          6  \n",
       "\n",
       "[1247486 rows x 14 columns]"
      ]
     },
     "execution_count": 2,
     "metadata": {},
     "output_type": "execute_result"
    }
   ],
   "source": [
    "# Importo el dataframe \"flights_clean\":\n",
    "flights_clean = pandas.read_csv('./output/DelayedFlights_clean.csv')\n",
    "\n",
    "flights_clean"
   ]
  },
  {
   "cell_type": "markdown",
   "id": "2d981dfd-45b1-4458-a20e-15b2e96c2b41",
   "metadata": {},
   "source": [
    "Para no complicarlo (y para ahorrar tiempo de proceso), elimino las columnas categóricas (**UniqueCarrier**, **Origin** y **Dest**), y la columna **Date** (que es una columna de tipo datetime creada por mí):"
   ]
  },
  {
   "cell_type": "code",
   "execution_count": 3,
   "id": "3ac50800-6680-4f4f-b0be-c7a05b03ff9a",
   "metadata": {},
   "outputs": [
    {
     "data": {
      "text/html": [
       "<div>\n",
       "<style scoped>\n",
       "    .dataframe tbody tr th:only-of-type {\n",
       "        vertical-align: middle;\n",
       "    }\n",
       "\n",
       "    .dataframe tbody tr th {\n",
       "        vertical-align: top;\n",
       "    }\n",
       "\n",
       "    .dataframe thead th {\n",
       "        text-align: right;\n",
       "    }\n",
       "</style>\n",
       "<table border=\"1\" class=\"dataframe\">\n",
       "  <thead>\n",
       "    <tr style=\"text-align: right;\">\n",
       "      <th></th>\n",
       "      <th>CRSDepTime</th>\n",
       "      <th>DepTime</th>\n",
       "      <th>CRSArrTime</th>\n",
       "      <th>CRSElapsedTime</th>\n",
       "      <th>DepDelay</th>\n",
       "      <th>ArrDelay</th>\n",
       "      <th>Distance</th>\n",
       "      <th>Month</th>\n",
       "      <th>Day</th>\n",
       "      <th>DayOfWeek</th>\n",
       "    </tr>\n",
       "  </thead>\n",
       "  <tbody>\n",
       "    <tr>\n",
       "      <th>0</th>\n",
       "      <td>1755</td>\n",
       "      <td>1829</td>\n",
       "      <td>1925</td>\n",
       "      <td>90</td>\n",
       "      <td>34</td>\n",
       "      <td>34</td>\n",
       "      <td>515</td>\n",
       "      <td>1</td>\n",
       "      <td>3</td>\n",
       "      <td>4</td>\n",
       "    </tr>\n",
       "    <tr>\n",
       "      <th>1</th>\n",
       "      <td>1830</td>\n",
       "      <td>1937</td>\n",
       "      <td>1940</td>\n",
       "      <td>250</td>\n",
       "      <td>67</td>\n",
       "      <td>57</td>\n",
       "      <td>1591</td>\n",
       "      <td>1</td>\n",
       "      <td>3</td>\n",
       "      <td>4</td>\n",
       "    </tr>\n",
       "    <tr>\n",
       "      <th>2</th>\n",
       "      <td>1510</td>\n",
       "      <td>1644</td>\n",
       "      <td>1725</td>\n",
       "      <td>135</td>\n",
       "      <td>94</td>\n",
       "      <td>80</td>\n",
       "      <td>828</td>\n",
       "      <td>1</td>\n",
       "      <td>3</td>\n",
       "      <td>4</td>\n",
       "    </tr>\n",
       "    <tr>\n",
       "      <th>3</th>\n",
       "      <td>1425</td>\n",
       "      <td>1452</td>\n",
       "      <td>1625</td>\n",
       "      <td>240</td>\n",
       "      <td>27</td>\n",
       "      <td>15</td>\n",
       "      <td>1489</td>\n",
       "      <td>1</td>\n",
       "      <td>3</td>\n",
       "      <td>4</td>\n",
       "    </tr>\n",
       "    <tr>\n",
       "      <th>4</th>\n",
       "      <td>1255</td>\n",
       "      <td>1323</td>\n",
       "      <td>1510</td>\n",
       "      <td>135</td>\n",
       "      <td>28</td>\n",
       "      <td>16</td>\n",
       "      <td>838</td>\n",
       "      <td>1</td>\n",
       "      <td>3</td>\n",
       "      <td>4</td>\n",
       "    </tr>\n",
       "    <tr>\n",
       "      <th>...</th>\n",
       "      <td>...</td>\n",
       "      <td>...</td>\n",
       "      <td>...</td>\n",
       "      <td>...</td>\n",
       "      <td>...</td>\n",
       "      <td>...</td>\n",
       "      <td>...</td>\n",
       "      <td>...</td>\n",
       "      <td>...</td>\n",
       "      <td>...</td>\n",
       "    </tr>\n",
       "    <tr>\n",
       "      <th>1247481</th>\n",
       "      <td>830</td>\n",
       "      <td>921</td>\n",
       "      <td>1008</td>\n",
       "      <td>98</td>\n",
       "      <td>51</td>\n",
       "      <td>64</td>\n",
       "      <td>545</td>\n",
       "      <td>12</td>\n",
       "      <td>13</td>\n",
       "      <td>6</td>\n",
       "    </tr>\n",
       "    <tr>\n",
       "      <th>1247482</th>\n",
       "      <td>1520</td>\n",
       "      <td>1552</td>\n",
       "      <td>1718</td>\n",
       "      <td>58</td>\n",
       "      <td>32</td>\n",
       "      <td>17</td>\n",
       "      <td>151</td>\n",
       "      <td>12</td>\n",
       "      <td>13</td>\n",
       "      <td>6</td>\n",
       "    </tr>\n",
       "    <tr>\n",
       "      <th>1247483</th>\n",
       "      <td>1220</td>\n",
       "      <td>1250</td>\n",
       "      <td>1552</td>\n",
       "      <td>152</td>\n",
       "      <td>30</td>\n",
       "      <td>25</td>\n",
       "      <td>906</td>\n",
       "      <td>12</td>\n",
       "      <td>13</td>\n",
       "      <td>6</td>\n",
       "    </tr>\n",
       "    <tr>\n",
       "      <th>1247484</th>\n",
       "      <td>600</td>\n",
       "      <td>657</td>\n",
       "      <td>749</td>\n",
       "      <td>109</td>\n",
       "      <td>57</td>\n",
       "      <td>75</td>\n",
       "      <td>481</td>\n",
       "      <td>12</td>\n",
       "      <td>13</td>\n",
       "      <td>6</td>\n",
       "    </tr>\n",
       "    <tr>\n",
       "      <th>1247485</th>\n",
       "      <td>847</td>\n",
       "      <td>1007</td>\n",
       "      <td>1010</td>\n",
       "      <td>143</td>\n",
       "      <td>80</td>\n",
       "      <td>99</td>\n",
       "      <td>689</td>\n",
       "      <td>12</td>\n",
       "      <td>13</td>\n",
       "      <td>6</td>\n",
       "    </tr>\n",
       "  </tbody>\n",
       "</table>\n",
       "<p>1247486 rows × 10 columns</p>\n",
       "</div>"
      ],
      "text/plain": [
       "         CRSDepTime  DepTime  CRSArrTime  CRSElapsedTime  DepDelay  ArrDelay  \\\n",
       "0              1755     1829        1925              90        34        34   \n",
       "1              1830     1937        1940             250        67        57   \n",
       "2              1510     1644        1725             135        94        80   \n",
       "3              1425     1452        1625             240        27        15   \n",
       "4              1255     1323        1510             135        28        16   \n",
       "...             ...      ...         ...             ...       ...       ...   \n",
       "1247481         830      921        1008              98        51        64   \n",
       "1247482        1520     1552        1718              58        32        17   \n",
       "1247483        1220     1250        1552             152        30        25   \n",
       "1247484         600      657         749             109        57        75   \n",
       "1247485         847     1007        1010             143        80        99   \n",
       "\n",
       "         Distance  Month  Day  DayOfWeek  \n",
       "0             515      1    3          4  \n",
       "1            1591      1    3          4  \n",
       "2             828      1    3          4  \n",
       "3            1489      1    3          4  \n",
       "4             838      1    3          4  \n",
       "...           ...    ...  ...        ...  \n",
       "1247481       545     12   13          6  \n",
       "1247482       151     12   13          6  \n",
       "1247483       906     12   13          6  \n",
       "1247484       481     12   13          6  \n",
       "1247485       689     12   13          6  \n",
       "\n",
       "[1247486 rows x 10 columns]"
      ]
     },
     "execution_count": 3,
     "metadata": {},
     "output_type": "execute_result"
    }
   ],
   "source": [
    "flights_clean.drop(['UniqueCarrier','Origin','Dest','Date'], axis='columns', inplace=True)\n",
    "\n",
    "flights_clean"
   ]
  },
  {
   "cell_type": "markdown",
   "id": "f64f881f-9b4a-486e-9d71-e1e33d77b1b0",
   "metadata": {},
   "source": [
    "Defino las variables independientes (**X**) y la variable dependiente (**y**), y hago **splits** de entrenamiento y testeo:"
   ]
  },
  {
   "cell_type": "code",
   "execution_count": 4,
   "id": "8763dfdd-0fe1-40e2-a5a7-c951aceb2b02",
   "metadata": {},
   "outputs": [],
   "source": [
    "# Defino las variables independientes (todas las columnas de \"flights_clean\", menos 'ArrDelay'):\n",
    "X = flights_clean.drop('ArrDelay', axis=1)\n",
    "\n",
    "# Defino la variable dependiente (solo 'ArrDelay'):\n",
    "y = flights_clean['ArrDelay']\n",
    "\n",
    "# Separo las partes de entrenamiento y de testeo, con la función \"train_test_split\":\n",
    "X_train, X_test, y_train, y_test = train_test_split(X, y, test_size=0.2, random_state=0)"
   ]
  },
  {
   "cell_type": "markdown",
   "id": "078d7dbf-94be-4755-bc9e-49093372867f",
   "metadata": {},
   "source": [
    "Creo un **pipeline** (que ejecutará el escalado **StandardScaler** y el modelo **RandomForestRegressor**), y aplico sobre él la librería **GridSearchCV** (que probará diferentes valores del parámetro **n_estimators**, no muy altos):"
   ]
  },
  {
   "cell_type": "code",
   "execution_count": 5,
   "id": "1ea9269f-3ce4-42ec-905c-bc84e67c4839",
   "metadata": {},
   "outputs": [],
   "source": [
    "# Almaceno los valores del parámetro \"n_estimators\" de \"RandomForestRegressor\", que \"GridSearchCV\" probará:\n",
    "params = {'random_forest__n_estimators': [10, 20, 30, 40, 50]}\n",
    "\n",
    "# Creo el pipeline, que ejecutará el escalado y el modelo:\n",
    "pipeline = Pipeline(steps=[('scaler', StandardScaler()),\n",
    "                           ('random_forest', RandomForestRegressor())\n",
    "                          ])\n",
    "\n",
    "# Creo una instancia de \"GridSearchCV\", pasándole el pipeline y el diccionario de parámetros:\n",
    "grid_pipeline = GridSearchCV(pipeline, params)"
   ]
  },
  {
   "cell_type": "markdown",
   "id": "5b77d4fb-7418-4c3f-8d00-f62122f3f4c7",
   "metadata": {},
   "source": [
    "Aplico el **grid_pipeline** sobre **X_train** e **y_train**:"
   ]
  },
  {
   "cell_type": "code",
   "execution_count": 6,
   "id": "733c2743-82dc-4991-af51-d7e9f27c7376",
   "metadata": {},
   "outputs": [
    {
     "name": "stdout",
     "output_type": "stream",
     "text": [
      "Wall time: 1h 14min 41s\n"
     ]
    },
    {
     "data": {
      "text/plain": [
       "GridSearchCV(estimator=Pipeline(steps=[('scaler', StandardScaler()),\n",
       "                                       ('random_forest',\n",
       "                                        RandomForestRegressor())]),\n",
       "             param_grid={'random_forest__n_estimators': [10, 20, 30, 40, 50]})"
      ]
     },
     "execution_count": 6,
     "metadata": {},
     "output_type": "execute_result"
    }
   ],
   "source": [
    "%%time\n",
    "grid_pipeline.fit(X_train, y_train)"
   ]
  },
  {
   "cell_type": "markdown",
   "id": "d065155f-9994-4119-a6ce-4f764ccdf53a",
   "metadata": {},
   "source": [
    "Imprimo el atributo **best_params**, que en este caso incluye al mejor valor del parámetro **n_estimators** (entre los valores especificados en el diccionario **params**):"
   ]
  },
  {
   "cell_type": "code",
   "execution_count": 7,
   "id": "dd2687d0-c64d-4b06-8b8f-8ebdb7af8a88",
   "metadata": {},
   "outputs": [
    {
     "data": {
      "text/plain": [
       "{'random_forest__n_estimators': 50}"
      ]
     },
     "execution_count": 7,
     "metadata": {},
     "output_type": "execute_result"
    }
   ],
   "source": [
    "grid_pipeline.best_params_"
   ]
  },
  {
   "cell_type": "markdown",
   "id": "faa92e3a-45d2-4e7a-8600-3d200cc821fb",
   "metadata": {},
   "source": [
    "Una vez obtenidos los valores óptimos de los parámetros, el siguiente paso sería crear un pipeline que ejecute el **escalado** y el **modelo** (con los parámetros obtenidos), y aplicarlo sobre **X_train** e **y_train**:"
   ]
  },
  {
   "cell_type": "code",
   "execution_count": 8,
   "id": "569afdd9-8c74-44e0-b713-fc32357c8493",
   "metadata": {},
   "outputs": [
    {
     "name": "stdout",
     "output_type": "stream",
     "text": [
      "Wall time: 5min 43s\n"
     ]
    },
    {
     "data": {
      "text/plain": [
       "Pipeline(steps=[('scaler', StandardScaler()),\n",
       "                ('random_forest', RandomForestRegressor(n_estimators=50))])"
      ]
     },
     "execution_count": 8,
     "metadata": {},
     "output_type": "execute_result"
    }
   ],
   "source": [
    "%%time\n",
    "# Creo el pipeline, que ejecutará el escalado y el modelo (con el parámero \"n_estimators\" con valor \"50\"):\n",
    "pipeline = Pipeline(steps=[('scaler', StandardScaler()),\n",
    "                           ('random_forest', RandomForestRegressor(n_estimators=50))\n",
    "                          ])\n",
    "\n",
    "# Aplico el pipeline sobre \"X_train\" e \"y_train\":\n",
    "pipeline.fit(X_train, y_train)"
   ]
  },
  {
   "cell_type": "markdown",
   "id": "5310b7fb-a930-45e2-84a8-444725da7e30",
   "metadata": {},
   "source": [
    "Ya finalizado el entrenamiento, puedo obtener la métrica **R2** desde el propio objeto **pipeline**:"
   ]
  },
  {
   "cell_type": "code",
   "execution_count": 9,
   "id": "163eb004-f9f8-4e79-86a1-462b9ac491d0",
   "metadata": {},
   "outputs": [
    {
     "data": {
      "text/plain": [
       "0.9097042035849"
      ]
     },
     "execution_count": 9,
     "metadata": {},
     "output_type": "execute_result"
    }
   ],
   "source": [
    "pipeline.score(X_test, y_test)"
   ]
  },
  {
   "cell_type": "markdown",
   "id": "8c974ba4-fc06-420c-ae8c-ab8444ee93a2",
   "metadata": {},
   "source": [
    "Y también puedo hacer una predicción, y en base a sus resultados obtener las métricas **R2** y **MSE** (como hicimos en el ejercicio correspondiente a los modelos de Regresión):"
   ]
  },
  {
   "cell_type": "code",
   "execution_count": 10,
   "id": "8d7e2c00-e4a2-47e6-b5d5-2501326b1cef",
   "metadata": {},
   "outputs": [
    {
     "name": "stdout",
     "output_type": "stream",
     "text": [
      "R2: 0.910\n",
      "MSE: 328.664\n"
     ]
    }
   ],
   "source": [
    "# Importo las librerias necesarias para obtener las métricas \"R2\" y \"MSE\":\n",
    "from sklearn.metrics import r2_score\n",
    "from sklearn.metrics import mean_squared_error\n",
    "\n",
    "# Utilizo la función \"predict\" para hacer predicciones con el modelo:\n",
    "pipeline_pred = pipeline.predict(X_test)\n",
    "\n",
    "# Obtengo y almaceno el R2:\n",
    "forest_reg_R2 = r2_score(y_test, pipeline_pred)\n",
    "\n",
    "# Obtengo y almaceno el MSE:\n",
    "forest_reg_MSE = mean_squared_error(y_test, pipeline_pred)\n",
    "\n",
    "print(f\"R2: {forest_reg_R2:.3f}\")\n",
    "print(f\"MSE: {forest_reg_MSE:.3f}\")"
   ]
  },
  {
   "cell_type": "markdown",
   "id": "b7b62ccf-f764-4cc5-8d43-e3d31144bf84",
   "metadata": {},
   "source": [
    "---\n",
    "## Exercici 1b  \n",
    "Debo confesar que la decisión de eliminar las columnas categóricas no se debía solo al hecho de ahorrar tiempo de proceso (que al final fue poco), sino también a sortear el \"marrón\" de codificar las columnas categóricas dentro de un pipeline.  \n",
    "He estado buscando información y he visto que se puede crear **sub-pipelines** diferenciados para las columnas numéricas (a las que escalar) y para las columnas categóricas (a las que codificar), con ayuda de la librería **ColumnTransformer**, así que voy a probarlo (pero sin comprobar parámetros con **GridSearchCV**, sino ejecutando el modelo directamente con los parámetros obtenidos en el anterior ejercicio)."
   ]
  },
  {
   "cell_type": "code",
   "execution_count": 2,
   "id": "64f640eb-bcf7-44f9-a4d8-88b63a141388",
   "metadata": {},
   "outputs": [],
   "source": [
    "from sklearn.preprocessing import OneHotEncoder\n",
    "from sklearn.compose import ColumnTransformer"
   ]
  },
  {
   "cell_type": "code",
   "execution_count": 3,
   "id": "2436ea87-9754-4152-8e12-0546e0b2ec30",
   "metadata": {},
   "outputs": [
    {
     "data": {
      "text/html": [
       "<div>\n",
       "<style scoped>\n",
       "    .dataframe tbody tr th:only-of-type {\n",
       "        vertical-align: middle;\n",
       "    }\n",
       "\n",
       "    .dataframe tbody tr th {\n",
       "        vertical-align: top;\n",
       "    }\n",
       "\n",
       "    .dataframe thead th {\n",
       "        text-align: right;\n",
       "    }\n",
       "</style>\n",
       "<table border=\"1\" class=\"dataframe\">\n",
       "  <thead>\n",
       "    <tr style=\"text-align: right;\">\n",
       "      <th></th>\n",
       "      <th>CRSDepTime</th>\n",
       "      <th>DepTime</th>\n",
       "      <th>CRSArrTime</th>\n",
       "      <th>CRSElapsedTime</th>\n",
       "      <th>DepDelay</th>\n",
       "      <th>ArrDelay</th>\n",
       "      <th>UniqueCarrier</th>\n",
       "      <th>Origin</th>\n",
       "      <th>Dest</th>\n",
       "      <th>Distance</th>\n",
       "      <th>Date</th>\n",
       "      <th>Month</th>\n",
       "      <th>Day</th>\n",
       "      <th>DayOfWeek</th>\n",
       "    </tr>\n",
       "  </thead>\n",
       "  <tbody>\n",
       "    <tr>\n",
       "      <th>0</th>\n",
       "      <td>1755</td>\n",
       "      <td>1829</td>\n",
       "      <td>1925</td>\n",
       "      <td>90</td>\n",
       "      <td>34</td>\n",
       "      <td>34</td>\n",
       "      <td>WN</td>\n",
       "      <td>IND</td>\n",
       "      <td>BWI</td>\n",
       "      <td>515</td>\n",
       "      <td>2008-01-03</td>\n",
       "      <td>1</td>\n",
       "      <td>3</td>\n",
       "      <td>4</td>\n",
       "    </tr>\n",
       "    <tr>\n",
       "      <th>1</th>\n",
       "      <td>1830</td>\n",
       "      <td>1937</td>\n",
       "      <td>1940</td>\n",
       "      <td>250</td>\n",
       "      <td>67</td>\n",
       "      <td>57</td>\n",
       "      <td>WN</td>\n",
       "      <td>IND</td>\n",
       "      <td>LAS</td>\n",
       "      <td>1591</td>\n",
       "      <td>2008-01-03</td>\n",
       "      <td>1</td>\n",
       "      <td>3</td>\n",
       "      <td>4</td>\n",
       "    </tr>\n",
       "    <tr>\n",
       "      <th>2</th>\n",
       "      <td>1510</td>\n",
       "      <td>1644</td>\n",
       "      <td>1725</td>\n",
       "      <td>135</td>\n",
       "      <td>94</td>\n",
       "      <td>80</td>\n",
       "      <td>WN</td>\n",
       "      <td>IND</td>\n",
       "      <td>MCO</td>\n",
       "      <td>828</td>\n",
       "      <td>2008-01-03</td>\n",
       "      <td>1</td>\n",
       "      <td>3</td>\n",
       "      <td>4</td>\n",
       "    </tr>\n",
       "    <tr>\n",
       "      <th>3</th>\n",
       "      <td>1425</td>\n",
       "      <td>1452</td>\n",
       "      <td>1625</td>\n",
       "      <td>240</td>\n",
       "      <td>27</td>\n",
       "      <td>15</td>\n",
       "      <td>WN</td>\n",
       "      <td>IND</td>\n",
       "      <td>PHX</td>\n",
       "      <td>1489</td>\n",
       "      <td>2008-01-03</td>\n",
       "      <td>1</td>\n",
       "      <td>3</td>\n",
       "      <td>4</td>\n",
       "    </tr>\n",
       "    <tr>\n",
       "      <th>4</th>\n",
       "      <td>1255</td>\n",
       "      <td>1323</td>\n",
       "      <td>1510</td>\n",
       "      <td>135</td>\n",
       "      <td>28</td>\n",
       "      <td>16</td>\n",
       "      <td>WN</td>\n",
       "      <td>IND</td>\n",
       "      <td>TPA</td>\n",
       "      <td>838</td>\n",
       "      <td>2008-01-03</td>\n",
       "      <td>1</td>\n",
       "      <td>3</td>\n",
       "      <td>4</td>\n",
       "    </tr>\n",
       "    <tr>\n",
       "      <th>...</th>\n",
       "      <td>...</td>\n",
       "      <td>...</td>\n",
       "      <td>...</td>\n",
       "      <td>...</td>\n",
       "      <td>...</td>\n",
       "      <td>...</td>\n",
       "      <td>...</td>\n",
       "      <td>...</td>\n",
       "      <td>...</td>\n",
       "      <td>...</td>\n",
       "      <td>...</td>\n",
       "      <td>...</td>\n",
       "      <td>...</td>\n",
       "      <td>...</td>\n",
       "    </tr>\n",
       "    <tr>\n",
       "      <th>1247481</th>\n",
       "      <td>830</td>\n",
       "      <td>921</td>\n",
       "      <td>1008</td>\n",
       "      <td>98</td>\n",
       "      <td>51</td>\n",
       "      <td>64</td>\n",
       "      <td>DL</td>\n",
       "      <td>ATL</td>\n",
       "      <td>PBI</td>\n",
       "      <td>545</td>\n",
       "      <td>2008-12-13</td>\n",
       "      <td>12</td>\n",
       "      <td>13</td>\n",
       "      <td>6</td>\n",
       "    </tr>\n",
       "    <tr>\n",
       "      <th>1247482</th>\n",
       "      <td>1520</td>\n",
       "      <td>1552</td>\n",
       "      <td>1718</td>\n",
       "      <td>58</td>\n",
       "      <td>32</td>\n",
       "      <td>17</td>\n",
       "      <td>DL</td>\n",
       "      <td>HSV</td>\n",
       "      <td>ATL</td>\n",
       "      <td>151</td>\n",
       "      <td>2008-12-13</td>\n",
       "      <td>12</td>\n",
       "      <td>13</td>\n",
       "      <td>6</td>\n",
       "    </tr>\n",
       "    <tr>\n",
       "      <th>1247483</th>\n",
       "      <td>1220</td>\n",
       "      <td>1250</td>\n",
       "      <td>1552</td>\n",
       "      <td>152</td>\n",
       "      <td>30</td>\n",
       "      <td>25</td>\n",
       "      <td>DL</td>\n",
       "      <td>MSP</td>\n",
       "      <td>ATL</td>\n",
       "      <td>906</td>\n",
       "      <td>2008-12-13</td>\n",
       "      <td>12</td>\n",
       "      <td>13</td>\n",
       "      <td>6</td>\n",
       "    </tr>\n",
       "    <tr>\n",
       "      <th>1247484</th>\n",
       "      <td>600</td>\n",
       "      <td>657</td>\n",
       "      <td>749</td>\n",
       "      <td>109</td>\n",
       "      <td>57</td>\n",
       "      <td>75</td>\n",
       "      <td>DL</td>\n",
       "      <td>RIC</td>\n",
       "      <td>ATL</td>\n",
       "      <td>481</td>\n",
       "      <td>2008-12-13</td>\n",
       "      <td>12</td>\n",
       "      <td>13</td>\n",
       "      <td>6</td>\n",
       "    </tr>\n",
       "    <tr>\n",
       "      <th>1247485</th>\n",
       "      <td>847</td>\n",
       "      <td>1007</td>\n",
       "      <td>1010</td>\n",
       "      <td>143</td>\n",
       "      <td>80</td>\n",
       "      <td>99</td>\n",
       "      <td>DL</td>\n",
       "      <td>ATL</td>\n",
       "      <td>IAH</td>\n",
       "      <td>689</td>\n",
       "      <td>2008-12-13</td>\n",
       "      <td>12</td>\n",
       "      <td>13</td>\n",
       "      <td>6</td>\n",
       "    </tr>\n",
       "  </tbody>\n",
       "</table>\n",
       "<p>1247486 rows × 14 columns</p>\n",
       "</div>"
      ],
      "text/plain": [
       "         CRSDepTime  DepTime  CRSArrTime  CRSElapsedTime  DepDelay  ArrDelay  \\\n",
       "0              1755     1829        1925              90        34        34   \n",
       "1              1830     1937        1940             250        67        57   \n",
       "2              1510     1644        1725             135        94        80   \n",
       "3              1425     1452        1625             240        27        15   \n",
       "4              1255     1323        1510             135        28        16   \n",
       "...             ...      ...         ...             ...       ...       ...   \n",
       "1247481         830      921        1008              98        51        64   \n",
       "1247482        1520     1552        1718              58        32        17   \n",
       "1247483        1220     1250        1552             152        30        25   \n",
       "1247484         600      657         749             109        57        75   \n",
       "1247485         847     1007        1010             143        80        99   \n",
       "\n",
       "        UniqueCarrier Origin Dest  Distance        Date  Month  Day  DayOfWeek  \n",
       "0                  WN    IND  BWI       515  2008-01-03      1    3          4  \n",
       "1                  WN    IND  LAS      1591  2008-01-03      1    3          4  \n",
       "2                  WN    IND  MCO       828  2008-01-03      1    3          4  \n",
       "3                  WN    IND  PHX      1489  2008-01-03      1    3          4  \n",
       "4                  WN    IND  TPA       838  2008-01-03      1    3          4  \n",
       "...               ...    ...  ...       ...         ...    ...  ...        ...  \n",
       "1247481            DL    ATL  PBI       545  2008-12-13     12   13          6  \n",
       "1247482            DL    HSV  ATL       151  2008-12-13     12   13          6  \n",
       "1247483            DL    MSP  ATL       906  2008-12-13     12   13          6  \n",
       "1247484            DL    RIC  ATL       481  2008-12-13     12   13          6  \n",
       "1247485            DL    ATL  IAH       689  2008-12-13     12   13          6  \n",
       "\n",
       "[1247486 rows x 14 columns]"
      ]
     },
     "execution_count": 3,
     "metadata": {},
     "output_type": "execute_result"
    }
   ],
   "source": [
    "# Importo el dataframe \"flights_clean\":\n",
    "flights_clean = pandas.read_csv('./output/DelayedFlights_clean.csv')\n",
    "\n",
    "flights_clean"
   ]
  },
  {
   "cell_type": "markdown",
   "id": "d2562cc7-0d0a-4ec0-98e3-609e10d4664e",
   "metadata": {},
   "source": [
    "Elimino la columna **Date**, que ya está reflejada en otras variables:"
   ]
  },
  {
   "cell_type": "code",
   "execution_count": 4,
   "id": "2c38cafe-4e18-4ca3-8a99-7e8d57af220d",
   "metadata": {},
   "outputs": [],
   "source": [
    "flights_clean.drop(['Date'], axis='columns', inplace=True)"
   ]
  },
  {
   "cell_type": "markdown",
   "id": "1866a5f8-06b7-4831-bb48-55a55e9d2894",
   "metadata": {},
   "source": [
    "Defino las variables independientes (**X**) y la variable dependiente (**y**), y hago **splits** de entrenamiento y testeo:"
   ]
  },
  {
   "cell_type": "code",
   "execution_count": 5,
   "id": "624c3622-2bb5-4bfb-98c4-4896f121b25e",
   "metadata": {},
   "outputs": [],
   "source": [
    "# Defino las variables independientes (todas las columnas de \"flights_clean\", menos 'ArrDelay'):\n",
    "X = flights_clean.drop('ArrDelay', axis=1)\n",
    "\n",
    "# Defino la variable dependiente (solo 'ArrDelay'):\n",
    "y = flights_clean['ArrDelay']\n",
    "\n",
    "# Separo las partes de entrenamiento y de testeo, con la función \"train_test_split\":\n",
    "X_train, X_test, y_train, y_test = train_test_split(X, y, test_size=0.2, random_state=0)"
   ]
  },
  {
   "cell_type": "markdown",
   "id": "d32e532a-6451-472b-a289-2de8e9e8f703",
   "metadata": {},
   "source": [
    "Almaceno en listas las columnas numéricas y las columnas categóricas (solo las de **X**, o devolverá error por la columna objetivo, al ejecutar el grid_pipeline):"
   ]
  },
  {
   "cell_type": "code",
   "execution_count": 6,
   "id": "c103fbdb-732a-4cd7-aad5-c336a8df8b46",
   "metadata": {},
   "outputs": [],
   "source": [
    "num_cols = X_train.select_dtypes(include=['int64']).columns.tolist()\n",
    "\n",
    "cat_cols = X_train.select_dtypes(include=['object']).columns.tolist()"
   ]
  },
  {
   "cell_type": "markdown",
   "id": "a5de161e-813d-443b-bcbc-d16457c9682f",
   "metadata": {},
   "source": [
    "Creo un **pipeline** para las columnas numéricas (que las escalará con **StandardScaler**) y otro para las columnas categóricas (que las codificará con **OneHotEncoder**):"
   ]
  },
  {
   "cell_type": "code",
   "execution_count": 7,
   "id": "586a243b-40e5-4d8d-902a-daf11c0a9a59",
   "metadata": {},
   "outputs": [],
   "source": [
    "num_pipeline = Pipeline(steps=[('scaler', StandardScaler())])\n",
    "\n",
    "cat_pipeline = Pipeline(steps=[('one_hot', OneHotEncoder(handle_unknown = 'ignore'))])"
   ]
  },
  {
   "cell_type": "markdown",
   "id": "a0d856be-ce6c-4173-94ea-1fc45b1502e0",
   "metadata": {},
   "source": [
    "Utilizo la librería **ColumnTransformer** para aplicar los pipelines de transformación a las columnas correspondientes:"
   ]
  },
  {
   "cell_type": "code",
   "execution_count": 8,
   "id": "ab8acf9d-5126-4461-94cf-5f94ae8e6267",
   "metadata": {},
   "outputs": [],
   "source": [
    "preprocessor = ColumnTransformer(transformers=[('num', num_pipeline, num_cols),\n",
    "                                                ('cat', cat_pipeline, cat_cols)\n",
    "                                                ], \n",
    "                                    remainder = 'passthrough')"
   ]
  },
  {
   "cell_type": "markdown",
   "id": "d988278c-f87b-49d8-acee-4ce750e5d205",
   "metadata": {},
   "source": [
    "Creo el pipeline final, que ejecutará los **sub-pipelines de preprocesado** y el **modelo** (con el parámetro **n_estimators=50**), y lo aplico sobre **X-train** e **y_train**:"
   ]
  },
  {
   "cell_type": "code",
   "execution_count": 9,
   "id": "bbbe360f-612a-49a9-9a8e-83b532a2b0a5",
   "metadata": {},
   "outputs": [
    {
     "name": "stdout",
     "output_type": "stream",
     "text": [
      "Wall time: 21h 56min 20s\n"
     ]
    },
    {
     "data": {
      "text/plain": [
       "Pipeline(steps=[('preprocessor',\n",
       "                 ColumnTransformer(remainder='passthrough',\n",
       "                                   transformers=[('num',\n",
       "                                                  Pipeline(steps=[('scaler',\n",
       "                                                                   StandardScaler())]),\n",
       "                                                  ['CRSDepTime', 'DepTime',\n",
       "                                                   'CRSArrTime',\n",
       "                                                   'CRSElapsedTime', 'DepDelay',\n",
       "                                                   'Distance', 'Month', 'Day',\n",
       "                                                   'DayOfWeek']),\n",
       "                                                 ('cat',\n",
       "                                                  Pipeline(steps=[('one_hot',\n",
       "                                                                   OneHotEncoder(handle_unknown='ignore'))]),\n",
       "                                                  ['UniqueCarrier', 'Origin',\n",
       "                                                   'Dest'])])),\n",
       "                ('random_forest', RandomForestRegressor(n_estimators=50))])"
      ]
     },
     "execution_count": 9,
     "metadata": {},
     "output_type": "execute_result"
    }
   ],
   "source": [
    "%%time\n",
    "# Creo el pipeline, que ejecutará los sub-pipelines de preprocesado y el modelo (con el parámero \"n_estimators\" con valor \"50\"):\n",
    "pipeline = Pipeline(steps=[('preprocessor', preprocessor),\n",
    "                           ('random_forest', RandomForestRegressor(n_estimators=50))\n",
    "                          ])\n",
    "\n",
    "# Aplico el pipeline sobre \"X_train\" e \"y_train\":\n",
    "pipeline.fit(X_train, y_train)"
   ]
  },
  {
   "cell_type": "markdown",
   "id": "e26f3deb-b7d2-4ec9-805d-941b7001ee70",
   "metadata": {},
   "source": [
    "> Pfff, es muy raro que haya tardado tanto, pero no me cuadra que sea por el PC, porque cuando no hay columnas dummies la ejecución es muy rápida (tardó solo 5 minutos en el ejercicio anterior).  \n",
    "> También hice la prueba de ejecutar solamente la parte de preprocesado (los dos **sub-pipelines**) y tardó solo un segundo, como era de esperar.  \n",
    "> Aparte, el PC no se queda bloqueado en ningún momento, y siempre se escucha que \"algo está haciendo\". No sé, es un misterio."
   ]
  },
  {
   "cell_type": "markdown",
   "id": "06637769-a5e9-41af-809c-a4c6278d228d",
   "metadata": {},
   "source": [
    "Hago una predicción y obtengo las métricas **R2** y **MSE**:"
   ]
  },
  {
   "cell_type": "code",
   "execution_count": 12,
   "id": "35f44a38-88c9-42ae-86a9-aacc6f90fb97",
   "metadata": {},
   "outputs": [
    {
     "name": "stdout",
     "output_type": "stream",
     "text": [
      "R2: 0.912\n",
      "MSE: 319.924\n"
     ]
    }
   ],
   "source": [
    "# Utilizo la función \"predict\" para hacer predicciones con el modelo:\n",
    "pipeline_pred = pipeline.predict(X_test)\n",
    "\n",
    "# Obtengo y almaceno el R2:\n",
    "forest_reg2_R2 = r2_score(y_test, pipeline_pred)\n",
    "\n",
    "# Obtengo y almaceno el MSE:\n",
    "forest_reg2_MSE = mean_squared_error(y_test, pipeline_pred)\n",
    "\n",
    "print(f\"R2: {forest_reg2_R2:.3f}\")\n",
    "print(f\"MSE: {forest_reg2_MSE:.3f}\")"
   ]
  },
  {
   "cell_type": "markdown",
   "id": "0c39a6d5-91f4-450c-a1a3-5916dd3ec7c5",
   "metadata": {},
   "source": [
    "Ya puestos, hago un **gráfico para comparar las métricas** del modelo en el que no usé las variables categóricas (en el **ejercicio 1**) con las métricas del modelo en el que no las usé (en el **ejercicio 1b**).  \n",
    "La verdad es que la mejora es mínima, y el gasto computacional enorme.  "
   ]
  },
  {
   "cell_type": "code",
   "execution_count": 32,
   "id": "146d7196-8d58-4ab6-9466-a5515f2a0b57",
   "metadata": {},
   "outputs": [
    {
     "data": {
      "image/png": "[encoded data removed]",
      "text/plain": [
       "<Figure size 576x720 with 2 Axes>"
      ]
     },
     "metadata": {
      "needs_background": "light"
     },
     "output_type": "display_data"
    }
   ],
   "source": [
    "import matplotlib.pyplot as plt\n",
    "import seaborn as sbrn\n",
    "\n",
    "fig, (ax1,ax2) = plt.subplots(2, 1, figsize=(8, 10))\n",
    "sbrn.barplot(x=['Without Categorical Variables','With Categorical Variables'], y=[0.910, 0.912], palette='Greens', ax=ax1)\n",
    "sbrn.barplot(x=['Without Categorical Variables','With Categorical Variables'], y=[328.664, 319.924], palette='Reds', ax=ax2)\n",
    "for container in ax1.containers:\n",
    "    ax1.bar_label(container)\n",
    "for container in ax2.containers:\n",
    "    ax2.bar_label(container)\n",
    "ax1.grid(axis='y', color='gray', linestyle='dashdot', alpha=0.3)\n",
    "ax2.grid(axis='y', color='gray', linestyle='dashdot', alpha=0.3)\n",
    "plt.suptitle(\"Random Forest Regressor Comparison\", fontsize=20, fontweight='bold')\n",
    "ax1.set_title(\"R2 Metric\")\n",
    "ax2.set_title(\"MSE Metric\")\n",
    "ax1.set_ylabel(\"R2\")\n",
    "ax2.set_ylabel(\"MSE\")\n",
    "plt.tight_layout();"
   ]
  },
  {
   "cell_type": "markdown",
   "id": "b907f059-8ccd-4291-9b38-837e3098c0d8",
   "metadata": {},
   "source": [
    "> Como conclusión del primer ejercicio diría que me parece una muy buena idea realizar el preprocesado directamente al ejecutar el modelo, mediante **pipelines** (de forma \"interna\", por decirlo así), ya que el dataframe con las columnas numéricas escaladas y/o con las columnas categóricas codificadas no aporta nada al \"ojo Humano\", sino mas bien todo lo contrario.  \n",
    "> Por otra parte, también es muy cómodo utilizar **GridSearch** para probar combinaciones de parámetros de forma automatizada, a pesar de que multiplique el tiempo de ejecución."
   ]
  },
  {
   "cell_type": "markdown",
   "id": "111f83d9-10a2-4364-82a5-4f825d395ccb",
   "metadata": {},
   "source": [
    "---\n",
    "## Exercici 2  \n",
    "Agafa un **text en anglès** que vulguis, i calcula'n la **freqüència de les paraules**."
   ]
  },
  {
   "cell_type": "code",
   "execution_count": 33,
   "id": "9818ff85-6906-43ea-bba3-56ce830205f3",
   "metadata": {},
   "outputs": [],
   "source": [
    "# Importo las librerías que voy a utilizar:\n",
    "from nltk.tokenize import word_tokenize\n",
    "from nltk.probability import FreqDist"
   ]
  },
  {
   "cell_type": "markdown",
   "id": "fd6749e2-0dcf-44b3-add5-951fb21f4c57",
   "metadata": {},
   "source": [
    "Almaceno un texto en una variable:"
   ]
  },
  {
   "cell_type": "code",
   "execution_count": 34,
   "id": "24bbb47c-0eed-44fd-afda-190a1da7e40e",
   "metadata": {},
   "outputs": [],
   "source": [
    "text_var = \"\"\"Totalitarianism is a form of government and a political system that prohibits all opposition parties,\n",
    "                outlaws individual opposition to the State and its claims, and exercises an extremely high degree of control and regulation over public and private life.\n",
    "                It is regarded as the most extreme and complete form of authoritarianism.\n",
    "                In totalitarian states, political power is often held by autocrats, such as dictators and absolute monarchs,\n",
    "                who employ all-encompassing campaigns in which propaganda is broadcast by state-controlled mass media in order to control the citizenry\"\"\""
   ]
  },
  {
   "cell_type": "markdown",
   "id": "1f839854-4f3a-4862-8330-bcde613aa2a5",
   "metadata": {},
   "source": [
    "Almaceno las palabras contenidas en el texto en una lista, mediante **word_tokenize**:"
   ]
  },
  {
   "cell_type": "code",
   "execution_count": 35,
   "id": "4ec14178-756e-4bf5-b6cc-0e79d52c3057",
   "metadata": {},
   "outputs": [
    {
     "name": "stdout",
     "output_type": "stream",
     "text": [
      "['Totalitarianism', 'is', 'a', 'form', 'of', 'government', 'and', 'a', 'political', 'system', 'that', 'prohibits', 'all', 'opposition', 'parties', ',', 'outlaws', 'individual', 'opposition', 'to', 'the', 'State', 'and', 'its', 'claims', ',', 'and', 'exercises', 'an', 'extremely', 'high', 'degree', 'of', 'control', 'and', 'regulation', 'over', 'public', 'and', 'private', 'life', '.', 'It', 'is', 'regarded', 'as', 'the', 'most', 'extreme', 'and', 'complete', 'form', 'of', 'authoritarianism', '.', 'In', 'totalitarian', 'states', ',', 'political', 'power', 'is', 'often', 'held', 'by', 'autocrats', ',', 'such', 'as', 'dictators', 'and', 'absolute', 'monarchs', ',', 'who', 'employ', 'all-encompassing', 'campaigns', 'in', 'which', 'propaganda', 'is', 'broadcast', 'by', 'state-controlled', 'mass', 'media', 'in', 'order', 'to', 'control', 'the', 'citizenry']\n"
     ]
    }
   ],
   "source": [
    "word_list = word_tokenize(text_var)\n",
    "\n",
    "print(word_list)"
   ]
  },
  {
   "cell_type": "markdown",
   "id": "96d0b4c5-877f-4757-a040-29b3d7122ddd",
   "metadata": {},
   "source": [
    "Calculo la frecuencia de las palabras, mediante **FreqDist**. Nos dice que hay **99** palabras, y **66** palabras únicas:"
   ]
  },
  {
   "cell_type": "code",
   "execution_count": 36,
   "id": "0f1e1dd4-240e-45ce-9397-73bd0d42331c",
   "metadata": {},
   "outputs": [
    {
     "name": "stdout",
     "output_type": "stream",
     "text": [
      "<FreqDist with 66 samples and 93 outcomes>\n"
     ]
    }
   ],
   "source": [
    "word_frequency = FreqDist(word_list)\n",
    "\n",
    "print(word_frequency)"
   ]
  },
  {
   "cell_type": "markdown",
   "id": "93af83f7-6290-463e-a941-68e3c915470e",
   "metadata": {},
   "source": [
    "Con la función **dict** puedo obtener la frecuencia correspondiente a cada una de las palabras:"
   ]
  },
  {
   "cell_type": "code",
   "execution_count": 37,
   "id": "57e07f10-e7e7-43aa-8d86-53ed380ddfb8",
   "metadata": {},
   "outputs": [
    {
     "name": "stdout",
     "output_type": "stream",
     "text": [
      "{'Totalitarianism': 1, 'is': 4, 'a': 2, 'form': 2, 'of': 3, 'government': 1, 'and': 7, 'political': 2, 'system': 1, 'that': 1, 'prohibits': 1, 'all': 1, 'opposition': 2, 'parties': 1, ',': 5, 'outlaws': 1, 'individual': 1, 'to': 2, 'the': 3, 'State': 1, 'its': 1, 'claims': 1, 'exercises': 1, 'an': 1, 'extremely': 1, 'high': 1, 'degree': 1, 'control': 2, 'regulation': 1, 'over': 1, 'public': 1, 'private': 1, 'life': 1, '.': 2, 'It': 1, 'regarded': 1, 'as': 2, 'most': 1, 'extreme': 1, 'complete': 1, 'authoritarianism': 1, 'In': 1, 'totalitarian': 1, 'states': 1, 'power': 1, 'often': 1, 'held': 1, 'by': 2, 'autocrats': 1, 'such': 1, 'dictators': 1, 'absolute': 1, 'monarchs': 1, 'who': 1, 'employ': 1, 'all-encompassing': 1, 'campaigns': 1, 'in': 2, 'which': 1, 'propaganda': 1, 'broadcast': 1, 'state-controlled': 1, 'mass': 1, 'media': 1, 'order': 1, 'citizenry': 1}\n"
     ]
    }
   ],
   "source": [
    "print(dict(word_frequency))"
   ]
  },
  {
   "cell_type": "markdown",
   "id": "7cfb9b1c-c5bb-425c-97db-ba2225e94f50",
   "metadata": {},
   "source": [
    "También puedo usar la función **most_common** (aplicada sobre el objeto que devuelve **FreqDist**) para devolver las palabras ordenadas por frecuencia, de forma descendente:"
   ]
  },
  {
   "cell_type": "code",
   "execution_count": 38,
   "id": "ec6c8d70-5439-485c-8224-6e05449489cd",
   "metadata": {},
   "outputs": [
    {
     "data": {
      "text/plain": [
       "[('and', 7),\n",
       " (',', 5),\n",
       " ('is', 4),\n",
       " ('of', 3),\n",
       " ('the', 3),\n",
       " ('a', 2),\n",
       " ('form', 2),\n",
       " ('political', 2),\n",
       " ('opposition', 2),\n",
       " ('to', 2),\n",
       " ('control', 2),\n",
       " ('.', 2),\n",
       " ('as', 2),\n",
       " ('by', 2),\n",
       " ('in', 2),\n",
       " ('Totalitarianism', 1),\n",
       " ('government', 1),\n",
       " ('system', 1),\n",
       " ('that', 1),\n",
       " ('prohibits', 1),\n",
       " ('all', 1),\n",
       " ('parties', 1),\n",
       " ('outlaws', 1),\n",
       " ('individual', 1),\n",
       " ('State', 1),\n",
       " ('its', 1),\n",
       " ('claims', 1),\n",
       " ('exercises', 1),\n",
       " ('an', 1),\n",
       " ('extremely', 1),\n",
       " ('high', 1),\n",
       " ('degree', 1),\n",
       " ('regulation', 1),\n",
       " ('over', 1),\n",
       " ('public', 1),\n",
       " ('private', 1),\n",
       " ('life', 1),\n",
       " ('It', 1),\n",
       " ('regarded', 1),\n",
       " ('most', 1),\n",
       " ('extreme', 1),\n",
       " ('complete', 1),\n",
       " ('authoritarianism', 1),\n",
       " ('In', 1),\n",
       " ('totalitarian', 1),\n",
       " ('states', 1),\n",
       " ('power', 1),\n",
       " ('often', 1),\n",
       " ('held', 1),\n",
       " ('autocrats', 1),\n",
       " ('such', 1),\n",
       " ('dictators', 1),\n",
       " ('absolute', 1),\n",
       " ('monarchs', 1),\n",
       " ('who', 1),\n",
       " ('employ', 1),\n",
       " ('all-encompassing', 1),\n",
       " ('campaigns', 1),\n",
       " ('which', 1),\n",
       " ('propaganda', 1),\n",
       " ('broadcast', 1),\n",
       " ('state-controlled', 1),\n",
       " ('mass', 1),\n",
       " ('media', 1),\n",
       " ('order', 1),\n",
       " ('citizenry', 1)]"
      ]
     },
     "execution_count": 38,
     "metadata": {},
     "output_type": "execute_result"
    }
   ],
   "source": [
    "word_frequency.most_common()"
   ]
  },
  {
   "cell_type": "markdown",
   "id": "a09375a4-f00b-4b54-9639-b531f36b046c",
   "metadata": {},
   "source": [
    "Y puedo pasarle la cantidad de palabras a devolver como parámetro:"
   ]
  },
  {
   "cell_type": "code",
   "execution_count": 39,
   "id": "316f0149-4861-449b-a849-75bef46e6f3b",
   "metadata": {},
   "outputs": [
    {
     "data": {
      "text/plain": [
       "[('and', 7),\n",
       " (',', 5),\n",
       " ('is', 4),\n",
       " ('of', 3),\n",
       " ('the', 3),\n",
       " ('a', 2),\n",
       " ('form', 2),\n",
       " ('political', 2),\n",
       " ('opposition', 2),\n",
       " ('to', 2)]"
      ]
     },
     "execution_count": 39,
     "metadata": {},
     "output_type": "execute_result"
    }
   ],
   "source": [
    "word_frequency.most_common(10)"
   ]
  },
  {
   "cell_type": "markdown",
   "id": "111a5117-d6d7-4b79-982d-e925cd5fb83c",
   "metadata": {},
   "source": [
    "---\n",
    "## Exercici 3\n",
    "Treu les **stopwords** i realitza **stemming** al teu conjunt de dades."
   ]
  },
  {
   "cell_type": "code",
   "execution_count": 40,
   "id": "f6805250-ba3d-4387-aeff-f97d48a28ccd",
   "metadata": {},
   "outputs": [],
   "source": [
    "# Importo las librerías que voy a utilizar:\n",
    "from nltk.corpus import stopwords\n",
    "from nltk.stem import PorterStemmer\n",
    "from nltk.stem.wordnet import WordNetLemmatizer"
   ]
  },
  {
   "cell_type": "markdown",
   "id": "5ea5b348-87c0-4daf-812b-bf3d370c68c3",
   "metadata": {},
   "source": [
    "Almaceno las **stopwords** correspondientes al idioma inglés, y las imprimo:"
   ]
  },
  {
   "cell_type": "code",
   "execution_count": 41,
   "id": "1b18ccca-d8c0-4091-ab36-2c63be94511b",
   "metadata": {},
   "outputs": [
    {
     "name": "stdout",
     "output_type": "stream",
     "text": [
      "{'same', 'into', 'any', \"mightn't\", \"it's\", 'at', 'aren', 'through', 'or', 'above', 'should', 'all', 'no', 'up', 'we', \"you've\", 'to', 'themselves', 'own', 'you', 'don', 'me', 'ours', 'theirs', \"should've\", 'she', 'both', 'below', 'but', 'now', 'his', \"shan't\", 've', 'against', 'o', 'for', 'mightn', 'because', 'with', 'whom', \"you're\", 'it', 'does', 'over', \"shouldn't\", 'doing', 'under', 'he', \"hasn't\", \"wouldn't\", 'of', \"doesn't\", \"hadn't\", 'itself', 'won', 'haven', 'who', 'out', 'himself', \"isn't\", 'them', 'and', 'which', 'too', 'isn', 'being', 'until', \"wasn't\", 'be', 'before', 'once', 'a', 'other', 'that', 'very', 'were', \"mustn't\", 'him', 'will', 'just', 'm', 'couldn', 'am', \"needn't\", 'shouldn', 'been', 'are', 'if', 'their', 'hers', 'off', 'ourselves', 'was', 'when', 'wasn', 'mustn', \"weren't\", 'not', 'during', \"you'd\", 'further', 'shan', 'is', 'this', \"she's\", 'where', 'her', 'hasn', 'had', 'didn', 'some', 'after', 'having', 'yourselves', 'more', 're', 'between', 'wouldn', 'about', 't', 'then', 'can', 'hadn', 'so', 'll', 'ain', 'has', 'have', 'while', 'yourself', 'they', 'from', 'down', 'i', 'again', 'did', 'doesn', 'few', 'by', 'its', 'each', \"couldn't\", 'your', 'these', 'why', \"you'll\", \"aren't\", 'the', 'in', 'ma', 'as', \"haven't\", 'those', 'd', 'most', 's', \"that'll\", 'needn', \"didn't\", 'on', 'than', 'myself', 'yours', 'weren', 'do', 'only', 'an', 'what', 'there', \"don't\", 'y', 'here', 'our', 'nor', 'herself', 'such', 'how', \"won't\", 'my'}\n"
     ]
    }
   ],
   "source": [
    "stop_words = set(stopwords.words('english'))\n",
    "\n",
    "print(stop_words)"
   ]
  },
  {
   "cell_type": "markdown",
   "id": "18f7c009-c9bf-44bf-a9d8-810b10467e06",
   "metadata": {},
   "source": [
    "Elimino las **stopwords** del texto, mediante un bucle, e imprimo los resultados:"
   ]
  },
  {
   "cell_type": "code",
   "execution_count": 42,
   "id": "94ecb662-d27f-401b-ac8e-4e527dbce47a",
   "metadata": {},
   "outputs": [
    {
     "name": "stdout",
     "output_type": "stream",
     "text": [
      "['Totalitarianism', 'form', 'government', 'political', 'system', 'prohibits', 'opposition', 'parties', ',', 'outlaws', 'individual', 'opposition', 'State', 'claims', ',', 'exercises', 'extremely', 'high', 'degree', 'control', 'regulation', 'public', 'private', 'life', '.', 'It', 'regarded', 'extreme', 'complete', 'form', 'authoritarianism', '.', 'In', 'totalitarian', 'states', ',', 'political', 'power', 'often', 'held', 'autocrats', ',', 'dictators', 'absolute', 'monarchs', ',', 'employ', 'all-encompassing', 'campaigns', 'propaganda', 'broadcast', 'state-controlled', 'mass', 'media', 'order', 'control', 'citizenry']\n"
     ]
    }
   ],
   "source": [
    "# Declaro una lista vacia, para almacenar las palabras \"filtradas\":\n",
    "filtered_words = []\n",
    "\n",
    "# Itero la lista de palabras contenidas en el texto,\n",
    "#   y añado a la lista de palabras filtradas las que no son \"stopwords\":\n",
    "for word in word_list:\n",
    "    if word not in stop_words:\n",
    "        filtered_words.append(word)\n",
    "        \n",
    "print(filtered_words)"
   ]
  },
  {
   "cell_type": "markdown",
   "id": "12f8650b-dfe9-42d1-b003-e6d4261b5944",
   "metadata": {},
   "source": [
    "Realizo **stemming** sobre las palabras filtradas (sin \"stopwords\"), mediante **PorterStemmer**:"
   ]
  },
  {
   "cell_type": "code",
   "execution_count": 43,
   "id": "506d3092-6c52-4623-b2d5-9fb7bd43636e",
   "metadata": {},
   "outputs": [
    {
     "name": "stdout",
     "output_type": "stream",
     "text": [
      "['totalitarian', 'form', 'govern', 'polit', 'system', 'prohibit', 'opposit', 'parti', ',', 'outlaw', 'individu', 'opposit', 'state', 'claim', ',', 'exercis', 'extrem', 'high', 'degre', 'control', 'regul', 'public', 'privat', 'life', '.', 'it', 'regard', 'extrem', 'complet', 'form', 'authoritarian', '.', 'in', 'totalitarian', 'state', ',', 'polit', 'power', 'often', 'held', 'autocrat', ',', 'dictat', 'absolut', 'monarch', ',', 'employ', 'all-encompass', 'campaign', 'propaganda', 'broadcast', 'state-control', 'mass', 'media', 'order', 'control', 'citizenri']\n"
     ]
    }
   ],
   "source": [
    "# Declaro una lista vacia, para almacenar las palabras \"normalizadas\":\n",
    "stemmed_words = []\n",
    "\n",
    "# Itero la lista de palabras contenidas en el texto (sin \"stopwords\"),\n",
    "#   las normalizo mediante \"PorterStemmer\" y las añado a la lista \"stemmed_words\":\n",
    "for word in filtered_words:\n",
    "    stemmed_words.append(PorterStemmer().stem(word))\n",
    "        \n",
    "print(stemmed_words)"
   ]
  },
  {
   "cell_type": "markdown",
   "id": "c1c504df-f3f3-4bed-a460-6dc5f5b95bc8",
   "metadata": {},
   "source": [
    "---\n",
    "## Exercici 4\n",
    "Realitza **sentiment analysis** al teu conjunt de dades."
   ]
  },
  {
   "cell_type": "code",
   "execution_count": 2,
   "id": "3bcdeac8-e07b-4cc4-8c91-671af059a767",
   "metadata": {},
   "outputs": [],
   "source": [
    "# Importo las librerías que voy a utilizar:\n",
    "import re\n",
    "from nltk.tokenize import word_tokenize\n",
    "from nltk.corpus import stopwords\n",
    "from nltk import pos_tag\n",
    "from nltk.corpus import wordnet\n",
    "from nltk.stem.wordnet import WordNetLemmatizer\n",
    "from textblob import TextBlob\n",
    "from nltk.corpus import sentiwordnet\n",
    "from vaderSentiment.vaderSentiment import SentimentIntensityAnalyzer\n",
    "from statistics import mean"
   ]
  },
  {
   "cell_type": "markdown",
   "id": "23465800-a7e3-44d6-a5ff-b7b668109784",
   "metadata": {},
   "source": [
    "Almaceno un tweet en una variable:"
   ]
  },
  {
   "cell_type": "code",
   "execution_count": 3,
   "id": "3cbd020f-0282-40d6-9680-8646b5510311",
   "metadata": {},
   "outputs": [],
   "source": [
    "tweet = \"It can be difficult to find the time and space in our lives for things that are important for our wellbeing, like meditation and exercise. Accepting this is an important part of the practice.\""
   ]
  },
  {
   "cell_type": "markdown",
   "id": "716400a7-c329-4dcd-b78f-3afdff29bcba",
   "metadata": {},
   "source": [
    "Sustituyo los caracteres especiales, números y puntuaciones con espacios, mediante la librería **re** (manteniendo solamente caracteres alfabéticos y espacios):"
   ]
  },
  {
   "cell_type": "code",
   "execution_count": 4,
   "id": "842348c8-0380-455d-bd3d-3b0aeb9a2936",
   "metadata": {},
   "outputs": [
    {
     "data": {
      "text/plain": [
       "'It can be difficult to find the time and space in our lives for things that are important for our wellbeing like meditation and exercise Accepting this is an important part of the practice '"
      ]
     },
     "execution_count": 4,
     "metadata": {},
     "output_type": "execute_result"
    }
   ],
   "source": [
    "clean_tweet = re.sub('[^A-Za-z]+', ' ', tweet)\n",
    "\n",
    "clean_tweet"
   ]
  },
  {
   "cell_type": "markdown",
   "id": "a73d0f31-5239-43ad-8956-d05edb896db3",
   "metadata": {},
   "source": [
    "Almaceno las palabras contenidas en el tweet en una lista, mediante **word_tokenize**:"
   ]
  },
  {
   "cell_type": "code",
   "execution_count": 5,
   "id": "ba41f6a7-9219-43c6-8502-c45624357b85",
   "metadata": {},
   "outputs": [
    {
     "name": "stdout",
     "output_type": "stream",
     "text": [
      "['It', 'can', 'be', 'difficult', 'to', 'find', 'the', 'time', 'and', 'space', 'in', 'our', 'lives', 'for', 'things', 'that', 'are', 'important', 'for', 'our', 'wellbeing', 'like', 'meditation', 'and', 'exercise', 'Accepting', 'this', 'is', 'an', 'important', 'part', 'of', 'the', 'practice']\n"
     ]
    }
   ],
   "source": [
    "tweet_words = word_tokenize(clean_tweet)\n",
    "\n",
    "print(tweet_words)"
   ]
  },
  {
   "cell_type": "markdown",
   "id": "adc3d861-e63b-4894-b8ee-97eb4590e53d",
   "metadata": {},
   "source": [
    "Elimino las **stopwords**:"
   ]
  },
  {
   "cell_type": "code",
   "execution_count": 6,
   "id": "03209214-d672-4127-a62d-f2887e992a0b",
   "metadata": {},
   "outputs": [
    {
     "name": "stdout",
     "output_type": "stream",
     "text": [
      "['difficult', 'find', 'time', 'space', 'lives', 'things', 'important', 'wellbeing', 'like', 'meditation', 'exercise', 'Accepting', 'important', 'part', 'practice']\n"
     ]
    }
   ],
   "source": [
    "# Almaceno las \"stopwords\" correspondientes al inglés:\n",
    "stop_words = set(stopwords.words('english'))\n",
    "\n",
    "# Declaro una lista vacia, para almacenar las palabras \"filtradas\":\n",
    "filtered_tweet_words = []\n",
    "\n",
    "# Itero la lista de palabras contenidas en el tweet,\n",
    "#   y añado a la lista de palabras filtradas las que no son \"stopwords\":\n",
    "for word in tweet_words:\n",
    "    if word.lower() not in stop_words:\n",
    "        filtered_tweet_words.append(word)\n",
    "        \n",
    "print(filtered_tweet_words)"
   ]
  },
  {
   "cell_type": "markdown",
   "id": "a425fdf3-fe8c-48ed-9f11-b94fb4ad14ac",
   "metadata": {},
   "source": [
    "Aplico **POS Tagging** sobre las palabras filtradas:"
   ]
  },
  {
   "cell_type": "code",
   "execution_count": 7,
   "id": "7e573171-a40b-4656-95b2-61ac34a7f99d",
   "metadata": {},
   "outputs": [
    {
     "data": {
      "text/plain": [
       "[('difficult', 'JJ'),\n",
       " ('find', 'VB'),\n",
       " ('time', 'NN'),\n",
       " ('space', 'NN'),\n",
       " ('lives', 'VBZ'),\n",
       " ('things', 'NNS'),\n",
       " ('important', 'JJ'),\n",
       " ('wellbeing', 'VBG'),\n",
       " ('like', 'IN'),\n",
       " ('meditation', 'NN'),\n",
       " ('exercise', 'NN'),\n",
       " ('Accepting', 'NNP'),\n",
       " ('important', 'JJ'),\n",
       " ('part', 'NN'),\n",
       " ('practice', 'NN')]"
      ]
     },
     "execution_count": 7,
     "metadata": {},
     "output_type": "execute_result"
    }
   ],
   "source": [
    "tagged_tweet_words = pos_tag(filtered_tweet_words)\n",
    "\n",
    "tagged_tweet_words"
   ]
  },
  {
   "cell_type": "markdown",
   "id": "4b4c679e-ee7b-4591-b1e0-8d0940475345",
   "metadata": {},
   "source": [
    "**Vuelvo a taggear** las palabras filtradas (manualmente, y con ayuda de la librería **wordnet**), para que dichos tags sean comprensibles por algunas de las librerías que utilizaré posteriormente:"
   ]
  },
  {
   "cell_type": "code",
   "execution_count": 8,
   "id": "5c33e6ac-b387-4e3f-9cd3-935a5e898493",
   "metadata": {},
   "outputs": [
    {
     "data": {
      "text/plain": [
       "[['difficult', 'a'],\n",
       " ['find', 'v'],\n",
       " ['time', 'n'],\n",
       " ['space', 'n'],\n",
       " ['lives', 'v'],\n",
       " ['things', 'n'],\n",
       " ['important', 'a'],\n",
       " ['wellbeing', 'v'],\n",
       " ['like', None],\n",
       " ['meditation', 'n'],\n",
       " ['exercise', 'n'],\n",
       " ['Accepting', 'n'],\n",
       " ['important', 'a'],\n",
       " ['part', 'n'],\n",
       " ['practice', 'n']]"
      ]
     },
     "execution_count": 8,
     "metadata": {},
     "output_type": "execute_result"
    }
   ],
   "source": [
    "# Declaro una lista vacia, para almacenar las palabras \"re-taggeadas\":\n",
    "retagged_tweet_words = []\n",
    "\n",
    "# Almaceno los tags a aplicar. basados en el tipo de palabra:\n",
    "tag_dict = {'J':wordnet.ADJ, 'V':wordnet.VERB, 'N':wordnet.NOUN, 'R':wordnet.ADV}\n",
    "\n",
    "# Itero la lista de palabras taggeadas, para volver a almacenarlas en la lista \"retagged_tweet_words\",\n",
    "#   pero esta vez con los tags almacenados en \"tag_dict\":\n",
    "for word, tag in tagged_tweet_words:\n",
    "    #retagged_tweet_words.append(list([word, tag_dict.get(tag[0])]))\n",
    "    retagged_tweet_words.append(list([word, tag_dict.get(tag[0])]))\n",
    "    \n",
    "retagged_tweet_words"
   ]
  },
  {
   "cell_type": "markdown",
   "id": "e96cd4a3-1c14-439e-a1df-487828f009ae",
   "metadata": {},
   "source": [
    "Utilizo la la librería **sentiwordnet** para hacer **sentiment analysis** (que esta librería hace palabra por palabra), y almaceno los resultados en un dataframe, normalizando previamente las palabras con **WordNetLemmatizer**:"
   ]
  },
  {
   "cell_type": "code",
   "execution_count": 9,
   "id": "87d51f41-49d9-4f8b-9abd-269d515a9152",
   "metadata": {},
   "outputs": [
    {
     "data": {
      "text/html": [
       "<div>\n",
       "<style scoped>\n",
       "    .dataframe tbody tr th:only-of-type {\n",
       "        vertical-align: middle;\n",
       "    }\n",
       "\n",
       "    .dataframe tbody tr th {\n",
       "        vertical-align: top;\n",
       "    }\n",
       "\n",
       "    .dataframe thead th {\n",
       "        text-align: right;\n",
       "    }\n",
       "</style>\n",
       "<table border=\"1\" class=\"dataframe\">\n",
       "  <thead>\n",
       "    <tr style=\"text-align: right;\">\n",
       "      <th></th>\n",
       "      <th>WORD</th>\n",
       "      <th>POSITIVE</th>\n",
       "      <th>NEGATIVE</th>\n",
       "      <th>OBJECTIVITY</th>\n",
       "    </tr>\n",
       "  </thead>\n",
       "  <tbody>\n",
       "    <tr>\n",
       "      <th>0</th>\n",
       "      <td>difficult</td>\n",
       "      <td>0.000</td>\n",
       "      <td>0.750</td>\n",
       "      <td>0.250</td>\n",
       "    </tr>\n",
       "    <tr>\n",
       "      <th>1</th>\n",
       "      <td>find</td>\n",
       "      <td>0.000</td>\n",
       "      <td>0.000</td>\n",
       "      <td>1.000</td>\n",
       "    </tr>\n",
       "    <tr>\n",
       "      <th>2</th>\n",
       "      <td>time</td>\n",
       "      <td>0.000</td>\n",
       "      <td>0.000</td>\n",
       "      <td>1.000</td>\n",
       "    </tr>\n",
       "    <tr>\n",
       "      <th>3</th>\n",
       "      <td>space</td>\n",
       "      <td>0.000</td>\n",
       "      <td>0.000</td>\n",
       "      <td>1.000</td>\n",
       "    </tr>\n",
       "    <tr>\n",
       "      <th>4</th>\n",
       "      <td>live</td>\n",
       "      <td>0.000</td>\n",
       "      <td>0.000</td>\n",
       "      <td>1.000</td>\n",
       "    </tr>\n",
       "    <tr>\n",
       "      <th>5</th>\n",
       "      <td>thing</td>\n",
       "      <td>0.000</td>\n",
       "      <td>0.000</td>\n",
       "      <td>1.000</td>\n",
       "    </tr>\n",
       "    <tr>\n",
       "      <th>6</th>\n",
       "      <td>important</td>\n",
       "      <td>0.875</td>\n",
       "      <td>0.000</td>\n",
       "      <td>0.125</td>\n",
       "    </tr>\n",
       "    <tr>\n",
       "      <th>7</th>\n",
       "      <td>like</td>\n",
       "      <td>0.125</td>\n",
       "      <td>0.000</td>\n",
       "      <td>0.875</td>\n",
       "    </tr>\n",
       "    <tr>\n",
       "      <th>8</th>\n",
       "      <td>meditation</td>\n",
       "      <td>0.000</td>\n",
       "      <td>0.000</td>\n",
       "      <td>1.000</td>\n",
       "    </tr>\n",
       "    <tr>\n",
       "      <th>9</th>\n",
       "      <td>exercise</td>\n",
       "      <td>0.000</td>\n",
       "      <td>0.000</td>\n",
       "      <td>1.000</td>\n",
       "    </tr>\n",
       "    <tr>\n",
       "      <th>10</th>\n",
       "      <td>important</td>\n",
       "      <td>0.875</td>\n",
       "      <td>0.000</td>\n",
       "      <td>0.125</td>\n",
       "    </tr>\n",
       "    <tr>\n",
       "      <th>11</th>\n",
       "      <td>part</td>\n",
       "      <td>0.000</td>\n",
       "      <td>0.000</td>\n",
       "      <td>1.000</td>\n",
       "    </tr>\n",
       "    <tr>\n",
       "      <th>12</th>\n",
       "      <td>practice</td>\n",
       "      <td>0.250</td>\n",
       "      <td>0.125</td>\n",
       "      <td>0.625</td>\n",
       "    </tr>\n",
       "  </tbody>\n",
       "</table>\n",
       "</div>"
      ],
      "text/plain": [
       "          WORD  POSITIVE  NEGATIVE  OBJECTIVITY\n",
       "0    difficult     0.000     0.750        0.250\n",
       "1         find     0.000     0.000        1.000\n",
       "2         time     0.000     0.000        1.000\n",
       "3        space     0.000     0.000        1.000\n",
       "4         live     0.000     0.000        1.000\n",
       "5        thing     0.000     0.000        1.000\n",
       "6    important     0.875     0.000        0.125\n",
       "7         like     0.125     0.000        0.875\n",
       "8   meditation     0.000     0.000        1.000\n",
       "9     exercise     0.000     0.000        1.000\n",
       "10   important     0.875     0.000        0.125\n",
       "11        part     0.000     0.000        1.000\n",
       "12    practice     0.250     0.125        0.625"
      ]
     },
     "execution_count": 9,
     "metadata": {},
     "output_type": "execute_result"
    }
   ],
   "source": [
    "# Declaro un dataframe vacío, para almacenar los resultados:\n",
    "sentiwordnet_df = pandas.DataFrame(columns=['WORD','POSITIVE','NEGATIVE','OBJECTIVITY'])\n",
    "\n",
    "# Itero la lista de palabras \"re-taggeadas\", para normalizar cada una con la librería \"WordNetLemmatizer\"\n",
    "#   y obtener los sentimientos asociados con la librería \"sentiwordnet\", que almaceno en el dataframe:\n",
    "for word, tag in retagged_tweet_words:\n",
    "    if not tag:\n",
    "        lemma = word\n",
    "    else:\n",
    "        lemma = WordNetLemmatizer().lemmatize(word, pos=tag)\n",
    "    sysnets = sentiwordnet.senti_synsets(lemma, tag)\n",
    "    # Es necesario un \"try/except\" porque algunas palabras pueden no tener resultados:\n",
    "    try:\n",
    "        first_sysnet = list(sysnets)[0]\n",
    "        sentiwordnet_df.loc[len(sentiwordnet_df)] = [lemma, first_sysnet.pos_score(), first_sysnet.neg_score(), first_sysnet.obj_score()]\n",
    "    except Exception:\n",
    "        continue\n",
    "\n",
    "sentiwordnet_df"
   ]
  },
  {
   "cell_type": "markdown",
   "id": "7fb8b81a-3374-4e68-90f1-55fcea25fae7",
   "metadata": {},
   "source": [
    "Las métricas **Positive**, **Negative** y **Objectivity** tienen un rango de **0** a **1**, pero aplican a cada palabra por separado.  \n",
    "Para calcular esas métricas con respecto a todo el tweet podemos obtener la media de la métrica **Objectivity**, y sumar los valores de las métricas **Positive** y **Negative** (que ya no estarán limitadas a un límite superior de **1**, debido a la suma):"
   ]
  },
  {
   "cell_type": "code",
   "execution_count": 10,
   "id": "08b92264-d5fc-464f-96a5-b2661a69d2e9",
   "metadata": {},
   "outputs": [
    {
     "name": "stdout",
     "output_type": "stream",
     "text": [
      "Objectivity: 0.769\n",
      "Positivity: 2.125\n",
      "Negativity: 0.875\n"
     ]
    }
   ],
   "source": [
    "print(f\"Objectivity: {sentiwordnet_df['OBJECTIVITY'].mean().round(3)}\")\n",
    "print(f\"Positivity: {sentiwordnet_df['POSITIVE'].sum().round(3)}\")\n",
    "print(f\"Negativity: {sentiwordnet_df['NEGATIVE'].sum().round(3)}\")"
   ]
  },
  {
   "cell_type": "markdown",
   "id": "58cb00bf-8fb8-4296-a433-1d40f7339507",
   "metadata": {},
   "source": [
    "Y podemos restar la suma de los valores de **Negative** a la suma de los valores de **Positive**, para obtener el balance entre dichas métricas. El resultado será **mayor que 0** si el balance es positivo y **menor que 0** si el balance es negativo:"
   ]
  },
  {
   "cell_type": "code",
   "execution_count": 11,
   "id": "0d99386e-6cba-48dc-b2fc-27110bf00dca",
   "metadata": {},
   "outputs": [
    {
     "name": "stdout",
     "output_type": "stream",
     "text": [
      "Positivity/Negativity Balance: 1.25\n"
     ]
    }
   ],
   "source": [
    "print(f\"Positivity/Negativity Balance: {(sentiwordnet_df['POSITIVE'].sum() - sentiwordnet_df['NEGATIVE'].sum())}\")"
   ]
  },
  {
   "cell_type": "markdown",
   "id": "d62a0db2-b186-43e9-90c4-6be5a6707ab5",
   "metadata": {},
   "source": [
    "En realidad no es necesario almacenar los resultados en un dataframe y luego calcular los valores finales, sino que podemos **calcularlos directamente** (con la ayuda de una variable y una lista):"
   ]
  },
  {
   "cell_type": "code",
   "execution_count": 12,
   "id": "98fc88e6-40fd-4eed-a0c7-594c9c451cff",
   "metadata": {},
   "outputs": [
    {
     "name": "stdout",
     "output_type": "stream",
     "text": [
      "Objectivity: 0.769\n",
      "Positivity/Negativity Balance: 1.25\n"
     ]
    }
   ],
   "source": [
    "# Declaro una variable (iniciada a \"0\") para almacenar el resultado de los sentimientos positivos menos los sentimientos negativos,\n",
    "#   y una lista para almacenar los resultados de objetividad (para luego obtener la media):\n",
    "sentiment_result = 0\n",
    "objectivity = []\n",
    "\n",
    "# Itero la lista de palabras \"re-taggeadas\", para normalizar cada una con la librería \"WordNetLemmatizer\"\n",
    "#   y obtener los sentimientos asociados con la librería \"sentiwordnet\", que almaceno en la variable \"sentiment_result\" y en la lista \"objectivity\":\n",
    "for word, tag in retagged_tweet_words:\n",
    "    if not tag:\n",
    "        lemma = word\n",
    "    else:\n",
    "        lemma = WordNetLemmatizer().lemmatize(word, pos=tag)\n",
    "    sysnets = sentiwordnet.senti_synsets(lemma, tag)\n",
    "    # Es necesario un \"try/except\" porque algunas palabras pueden no tener resultados:\n",
    "    try:\n",
    "        first_sysnet = list(sysnets)[0]\n",
    "        sentiment_result += first_sysnet.pos_score() - first_sysnet.neg_score()\n",
    "        objectivity.append(first_sysnet.obj_score())\n",
    "    except Exception:\n",
    "        continue\n",
    "\n",
    "print(f\"Objectivity: {round(mean(objectivity),3)}\")\n",
    "print(f\"Positivity/Negativity Balance: {sentiment_result}\")"
   ]
  },
  {
   "cell_type": "markdown",
   "id": "046ff270-ae81-4394-90b4-2d4bd736f217",
   "metadata": {},
   "source": [
    "Otras librerías, como **TextBlob**, no hacen el análisis palabra por palabra, sino sobre todo el texto.  \n",
    "Para utlizarla es necesario volver a guardar las palabras en un string, normalizándolas previamente mediante **WordNetLemmatizer**:"
   ]
  },
  {
   "cell_type": "code",
   "execution_count": 13,
   "id": "46c92c42-6301-4a99-a5d8-2af2aabead93",
   "metadata": {},
   "outputs": [
    {
     "name": "stdout",
     "output_type": "stream",
     "text": [
      " difficult find time space live thing important wellbeing like meditation exercise Accepting important part practice\n"
     ]
    }
   ],
   "source": [
    "# Declaro un string vacío, para almacenar el tweet final (ya \"lemmatizado\"):\n",
    "lemmatized_tweet = \"\"\n",
    "\n",
    "# Itero la lista de palabras \"re-taggeadas\", y las concateno en el string \"lemmatized_tweet\"\n",
    "#   una vez normalizadas mediante \"WordNetLemmatizer\":\n",
    "for word, tag in retagged_tweet_words:\n",
    "    if not tag:\n",
    "        lemma = word\n",
    "    else:\n",
    "        lemma = WordNetLemmatizer().lemmatize(word, pos=tag)\n",
    "    lemmatized_tweet = lemmatized_tweet + \" \" + lemma    \n",
    "\n",
    "print(lemmatized_tweet)"
   ]
  },
  {
   "cell_type": "markdown",
   "id": "57b75c6c-85f3-4f5a-9c8b-79930d0f6b4c",
   "metadata": {},
   "source": [
    "Una vez creado el string a analizar, aplico sobre él la librería **TextBlob**, e imprimo los resultados, que difieren bastante de los obtenidos por la librería **sentiwordnet**.  \n",
    "NOTA: El rango de la métrica **Polarity** va de **-1** a **1**, y el rango de la métrica **Subjectivity** va de **0** a **1**."
   ]
  },
  {
   "cell_type": "code",
   "execution_count": 14,
   "id": "fd7fdbdb-2028-4695-8294-9ae3e40fe5ac",
   "metadata": {},
   "outputs": [
    {
     "data": {
      "text/plain": [
       "Sentiment(polarity=0.1090909090909091, subjectivity=0.875)"
      ]
     },
     "execution_count": 14,
     "metadata": {},
     "output_type": "execute_result"
    }
   ],
   "source": [
    "sentyment_analysis = TextBlob(lemmatized_tweet)\n",
    "\n",
    "sentyment_analysis.sentiment"
   ]
  },
  {
   "cell_type": "markdown",
   "id": "d26ec264-dc9d-4fef-b8b9-1b6afd59b6e1",
   "metadata": {},
   "source": [
    "Otra librería que hace el análisis sobre todo el texto es **VADER**, que además devuelve más métricas.  \n",
    "Las métricas **pos**, **neg** y **neu** hacen referencia a los sentimientos positvos, negativos y neutros, respectivamente (y el resultado de sumar sus valores siempre es **1**), y la métrica **compound** es una métrica compuesta (con rango de **-1** a **1**) que puede ser utilizada como resumen. El sentimiento del texto será **negativo** si su valor es **menor o igual a -0.5**, será **neutro** si su valor es **mayor que -0.5 y menor que 0.5**, y será **positivo** si su valor es **mayor o igual a 0.5**."
   ]
  },
  {
   "cell_type": "code",
   "execution_count": 15,
   "id": "fc20fbd3-f6bb-4c28-939e-b97a90dc7f55",
   "metadata": {},
   "outputs": [
    {
     "data": {
      "text/plain": [
       "{'neg': 0.118, 'neu': 0.472, 'pos': 0.41, 'compound': 0.6369}"
      ]
     },
     "execution_count": 15,
     "metadata": {},
     "output_type": "execute_result"
    }
   ],
   "source": [
    "sentyment_analysis = SentimentIntensityAnalyzer().polarity_scores(lemmatized_tweet)\n",
    "\n",
    "sentyment_analysis"
   ]
  },
  {
   "cell_type": "markdown",
   "id": "c7c4e844-196a-4644-b3e1-beff92e22b2e",
   "metadata": {},
   "source": [
    "> Está bien eso de analizar textos automáticamente, pero es llamativa la diferencia de resultados entre las diferentes librerias. Por ejemplo, al tweet que he analizado la librería **TextBlob** le ha asignado un valor de **subjetivity** de **0.875**, y la librería **sentiwordnet** le ha asignado un valor de **objectivity** de **0.769**. Lámame exquisito, pero diría que eso demuesta que queda mucho por hacer en el campo del **sentiment analysis**.  \n",
    "> Por otra parte, he intentado utilizar un texto en castellano, pero me he encontrado con problemas a la hora de realizar el **taggeado**, y supongo que también me los hubiera encontrado posteriormente, al realizar la **lemmatización**. Habrá que mirarlo con más detenimiento."
   ]
  },
  {
   "cell_type": "markdown",
   "id": "0fc085f4-ebe1-4357-b942-2e2813692b87",
   "metadata": {},
   "source": [
    "---"
   ]
  }
 ],
 "metadata": {
  "kernelspec": {
   "display_name": "Python 3 (ipykernel)",
   "language": "python",
   "name": "python3"
  },
  "language_info": {
   "codemirror_mode": {
    "name": "ipython",
    "version": 3
   },
   "file_extension": ".py",
   "mimetype": "text/x-python",
   "name": "python",
   "nbconvert_exporter": "python",
   "pygments_lexer": "ipython3",
   "version": "3.9.5"
  }
 },
 "nbformat": 4,
 "nbformat_minor": 5
}
